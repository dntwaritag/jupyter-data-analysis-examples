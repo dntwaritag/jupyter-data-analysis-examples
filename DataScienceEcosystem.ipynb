{
 "cells": [
  {
   "cell_type": "markdown",
   "id": "28a97526",
   "metadata": {},
   "source": [
    "# Data Science Tools and Ecosystem"
   ]
  },
  {
   "cell_type": "markdown",
   "id": "60acf050",
   "metadata": {},
   "source": [
    "In this notebook, Data Science Tools and Ecosystem are summarized."
   ]
  },
  {
   "cell_type": "markdown",
   "id": "3038ca82",
   "metadata": {},
   "source": [
    "Some of the popular languages that Data Scientists use are:\n",
    "\n",
    "1. Python\n",
    "2. R\n",
    "3. SQL\n",
    "4. Scala\n",
    "5. Java\n",
    "6. C++\n",
    "7. Julia\n",
    "8. JavaScript\n",
    "9. PHP\n",
    "10. Go\n",
    "11. Ruby\n",
    "12. Visual Basic"
   ]
  },
  {
   "cell_type": "markdown",
   "id": "9ce115be",
   "metadata": {},
   "source": [
    "Some of the commonly used libraries used by Data Scientists include:\n",
    "1. Pandas\n",
    "2. Numpy\n",
    "3. Matplotlib\n",
    "4. Seaborn\n",
    "5. Scikit-learn\n",
    "6. TensorFlow\n",
    "7. PyTorch\n",
    "8. Apache Spark\n",
    "9. Vegas\n",
    "10. Big DL\n",
    "11. Ggplot2"
   ]
  },
  {
   "cell_type": "markdown",
   "id": "38b5831d",
   "metadata": {},
   "source": [
    "**Data Science Tools**\n",
    "_______________________\n",
    "\n",
    " Anaconda\n",
    " Jupyter Notebook \n",
    " R Studio\n",
    " Spyder      \n",
    " Zeppelin          \n"
   ]
  },
  {
   "cell_type": "markdown",
   "id": "9cf89cc4",
   "metadata": {},
   "source": [
    "### Below are a few examples of evaluating arithmetic expressions in Python.\n"
   ]
  },
  {
   "cell_type": "code",
   "execution_count": 1,
   "id": "f2211d22",
   "metadata": {},
   "outputs": [
    {
     "data": {
      "text/plain": [
       "17"
      ]
     },
     "execution_count": 1,
     "metadata": {},
     "output_type": "execute_result"
    }
   ],
   "source": [
    "# This is a simple arithmetic expression to multiply then add integers.\n",
    "(3 * 4) + 5\n"
   ]
  },
  {
   "cell_type": "code",
   "execution_count": 2,
   "id": "895f86f8",
   "metadata": {},
   "outputs": [
    {
     "data": {
      "text/plain": [
       "3.3333333333333335"
      ]
     },
     "execution_count": 2,
     "metadata": {},
     "output_type": "execute_result"
    }
   ],
   "source": [
    "# This will convert 200 minutes to hours by dividing by 60.\n",
    "200 / 60\n"
   ]
  },
  {
   "cell_type": "markdown",
   "id": "618ff563",
   "metadata": {},
   "source": [
    "**Objectives:**\n",
    "- List popular languages for Data Science.\n",
    "- Identify commonly used libraries in Data Science.\n",
    "- Explore some Data Science tools.\n"
   ]
  },
  {
   "cell_type": "markdown",
   "id": "59f87fc8",
   "metadata": {},
   "source": [
    "## Author\n",
    "Denys NTWARITAGANZWA"
   ]
  }
 ],
 "metadata": {
  "kernelspec": {
   "display_name": "Python 3 (ipykernel)",
   "language": "python",
   "name": "python3"
  },
  "language_info": {
   "codemirror_mode": {
    "name": "ipython",
    "version": 3
   },
   "file_extension": ".py",
   "mimetype": "text/x-python",
   "name": "python",
   "nbconvert_exporter": "python",
   "pygments_lexer": "ipython3",
   "version": "3.10.9"
  }
 },
 "nbformat": 4,
 "nbformat_minor": 5
}
